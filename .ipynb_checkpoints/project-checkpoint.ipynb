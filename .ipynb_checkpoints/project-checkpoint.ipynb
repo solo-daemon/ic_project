{
 "cells": [
  {
   "cell_type": "code",
   "execution_count": null,
   "metadata": {},
   "outputs": [],
   "source": [
    "import numpy as np\n",
    "import matplotlib.pyplot as plt"
   ]
  },
  {
   "cell_type": "code",
   "execution_count": null,
   "metadata": {},
   "outputs": [],
   "source": [
    "# Define constants\n",
    "calorific_value_fuel = 42.8e6  # J/kg\n",
    "air_density = lambda T, RH: 1.225 * (1 - RH / 100) * (293.15 / T)  # Simplified air density\n",
    "efficiency = 0.3  # Engine efficiency (can be made variable)\n",
    "cycle_time = 0.02  # in seconds, example"
   ]
  },
  {
   "cell_type": "code",
   "execution_count": null,
   "metadata": {},
   "outputs": [],
   "source": [
    "# Function to calculate power output\n",
    "def power_output(T_inlet, humidity):\n",
    "    air_intake = air_density(T_inlet, humidity)  # Density of air based on temp and humidity\n",
    "    return efficiency * air_intake * calorific_value_fuel / cycle_time"
   ]
  },
  {
   "cell_type": "code",
   "execution_count": null,
   "metadata": {},
   "outputs": [],
   "source": [
    "# Simulation: vary inlet temperature and humidity\n",
    "T_inlets = np.linspace(280, 320, 50)  # Inlet temperature in Kelvin\n",
    "humidities = np.linspace(0, 100, 50)  # Humidity from 0% to 100%\n",
    "\n",
    "# Compute power for each combination of temperature and humidity\n",
    "power_matrix = np.array([[power_output(T, H) for H in humidities] for T in T_inlets])\n",
    "\n",
    "# Plotting the results\n",
    "T_inlet_mesh, humidity_mesh = np.meshgrid(T_inlets, humidities)\n",
    "\n",
    "plt.contourf(T_inlet_mesh, humidity_mesh, power_matrix.T, cmap='viridis')\n",
    "plt.title(\"Effect of Inlet Temperature and Humidity on Engine Power\")\n",
    "plt.xlabel(\"Inlet Temperature (K)\")\n",
    "plt.ylabel(\"Humidity (%)\")\n",
    "plt.colorbar(label=\"Power Output (Watts)\")\n",
    "plt.show()"
   ]
  }
 ],
 "metadata": {
  "language_info": {
   "name": "python"
  },
  "orig_nbformat": 4
 },
 "nbformat": 4,
 "nbformat_minor": 2
}
